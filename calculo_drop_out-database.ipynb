{
 "cells": [
  {
   "cell_type": "code",
   "execution_count": 1,
   "metadata": {},
   "outputs": [
    {
     "data": {
      "text/html": [
       "<div>\n",
       "<style scoped>\n",
       "    .dataframe tbody tr th:only-of-type {\n",
       "        vertical-align: middle;\n",
       "    }\n",
       "\n",
       "    .dataframe tbody tr th {\n",
       "        vertical-align: top;\n",
       "    }\n",
       "\n",
       "    .dataframe thead th {\n",
       "        text-align: right;\n",
       "    }\n",
       "</style>\n",
       "<table border=\"1\" class=\"dataframe\">\n",
       "  <thead>\n",
       "    <tr style=\"text-align: right;\">\n",
       "      <th></th>\n",
       "      <th>PECFINAL</th>\n",
       "      <th>EX</th>\n",
       "      <th>NOTAFINAL</th>\n",
       "      <th>PEC1</th>\n",
       "      <th>PEC3</th>\n",
       "      <th>PEC2</th>\n",
       "    </tr>\n",
       "  </thead>\n",
       "  <tbody>\n",
       "    <tr>\n",
       "      <th>0</th>\n",
       "      <td>2,2</td>\n",
       "      <td>7,1</td>\n",
       "      <td>7.2</td>\n",
       "      <td>10</td>\n",
       "      <td>7.5</td>\n",
       "      <td>4.5</td>\n",
       "    </tr>\n",
       "    <tr>\n",
       "      <th>1</th>\n",
       "      <td>1,5</td>\n",
       "      <td>8,5</td>\n",
       "      <td>7.5</td>\n",
       "      <td>10</td>\n",
       "      <td>NP</td>\n",
       "      <td>5</td>\n",
       "    </tr>\n",
       "    <tr>\n",
       "      <th>2</th>\n",
       "      <td>2,6</td>\n",
       "      <td>7</td>\n",
       "      <td>7.5</td>\n",
       "      <td>9</td>\n",
       "      <td>12</td>\n",
       "      <td>4.5</td>\n",
       "    </tr>\n",
       "    <tr>\n",
       "      <th>3</th>\n",
       "      <td>NP</td>\n",
       "      <td>NP</td>\n",
       "      <td>0.0</td>\n",
       "      <td>NP</td>\n",
       "      <td>NP</td>\n",
       "      <td>NP</td>\n",
       "    </tr>\n",
       "    <tr>\n",
       "      <th>4</th>\n",
       "      <td>2</td>\n",
       "      <td>1,9</td>\n",
       "      <td>1.9</td>\n",
       "      <td>4</td>\n",
       "      <td>12</td>\n",
       "      <td>4</td>\n",
       "    </tr>\n",
       "    <tr>\n",
       "      <th>5</th>\n",
       "      <td>NP</td>\n",
       "      <td>NP</td>\n",
       "      <td>0.0</td>\n",
       "      <td>NP</td>\n",
       "      <td>NP</td>\n",
       "      <td>NP</td>\n",
       "    </tr>\n",
       "    <tr>\n",
       "      <th>6</th>\n",
       "      <td>2,1</td>\n",
       "      <td>6,8</td>\n",
       "      <td>6.9</td>\n",
       "      <td>7</td>\n",
       "      <td>14.25</td>\n",
       "      <td>NP</td>\n",
       "    </tr>\n",
       "    <tr>\n",
       "      <th>7</th>\n",
       "      <td>3</td>\n",
       "      <td>7,2</td>\n",
       "      <td>8.0</td>\n",
       "      <td>10</td>\n",
       "      <td>15</td>\n",
       "      <td>5</td>\n",
       "    </tr>\n",
       "    <tr>\n",
       "      <th>8</th>\n",
       "      <td>1,5</td>\n",
       "      <td>NP</td>\n",
       "      <td>0.0</td>\n",
       "      <td>10</td>\n",
       "      <td>NP</td>\n",
       "      <td>5</td>\n",
       "    </tr>\n",
       "    <tr>\n",
       "      <th>9</th>\n",
       "      <td>2,5</td>\n",
       "      <td>2,5</td>\n",
       "      <td>2.5</td>\n",
       "      <td>6</td>\n",
       "      <td>15</td>\n",
       "      <td>4</td>\n",
       "    </tr>\n",
       "    <tr>\n",
       "      <th>10</th>\n",
       "      <td>1,2</td>\n",
       "      <td>2,7</td>\n",
       "      <td>2.7</td>\n",
       "      <td>9</td>\n",
       "      <td>NP</td>\n",
       "      <td>3</td>\n",
       "    </tr>\n",
       "  </tbody>\n",
       "</table>\n",
       "</div>"
      ],
      "text/plain": [
       "   PECFINAL   EX  NOTAFINAL PEC1   PEC3 PEC2\n",
       "0       2,2  7,1        7.2   10    7.5  4.5\n",
       "1       1,5  8,5        7.5   10     NP    5\n",
       "2       2,6    7        7.5    9     12  4.5\n",
       "3        NP   NP        0.0   NP     NP   NP\n",
       "4         2  1,9        1.9    4     12    4\n",
       "5        NP   NP        0.0   NP     NP   NP\n",
       "6       2,1  6,8        6.9    7  14.25   NP\n",
       "7         3  7,2        8.0   10     15    5\n",
       "8       1,5   NP        0.0   10     NP    5\n",
       "9       2,5  2,5        2.5    6     15    4\n",
       "10      1,2  2,7        2.7    9     NP    3"
      ]
     },
     "execution_count": 1,
     "metadata": {},
     "output_type": "execute_result"
    }
   ],
   "source": [
    "import pandas as pd  \n",
    "import numpy as np\n",
    "#df = pd.read_csv(\"./iCloud/proyectos_python/2020_notas_rede_de _computadores.csv\", sep=\";\",encoding='iso-8859-1')\n",
    "#df = pd.read_csv(\"2020_notas.csv\", sep=\";\",encoding='iso-8859-1')\n",
    "#df = pd.read_csv(\"2019_notas.csv\", sep=\";\",encoding='iso-8859-1')\n",
    "#datos=df[ ['PEC1','PEC2','EX','NOTAFINAL']]\n",
    "df = pd.read_csv(\"2020_notas_ok_limpio_bd.csv\", sep=\";\",encoding='iso-8859-1')\n",
    "#df = pd.read_csv(\"2019_notas_ok_limpio_bd.csv\", sep=\";\",encoding='iso-8859-1')\n",
    "datos=df[ ['PEC1','PEC2','PEC3','EX','NOTAFINAL']]\n",
    "df.head()\n",
    "datos=df\n",
    "\n",
    "\n",
    "\n",
    "\n",
    "N=len(datos)\n",
    "datos.head(11)\n",
    "#res = pd.DataFrame(columns=('OPC1', 'OPC2', 'OF','PC12F', 'PC1F'))"
   ]
  },
  {
   "cell_type": "code",
   "execution_count": 2,
   "metadata": {},
   "outputs": [
    {
     "name": "stdout",
     "output_type": "stream",
     "text": [
      "<class 'pandas.core.frame.DataFrame'>\n",
      "<class 'str'>\n",
      "10\n"
     ]
    }
   ],
   "source": [
    "print(type(datos))\n",
    "\n",
    "datos1=datos.fillna('NP')\n",
    "\n",
    "print(type(datos1['PEC1'][0]))\n",
    "print(datos1['PEC1'][0])\n",
    "datos1.head(5)\n",
    "datos=datos1\n",
    "datos.head(5)\n",
    "datos.NOTAFINAL[3]\n",
    "datos.NOTAFINAL=pd.to_numeric(datos.NOTAFINAL)"
   ]
  },
  {
   "cell_type": "code",
   "execution_count": 3,
   "metadata": {},
   "outputs": [
    {
     "data": {
      "text/plain": [
       "pandas.core.series.Series"
      ]
     },
     "execution_count": 3,
     "metadata": {},
     "output_type": "execute_result"
    }
   ],
   "source": [
    "\n",
    "type(datos['PEC1'])\n"
   ]
  },
  {
   "cell_type": "markdown",
   "metadata": {},
   "source": [
    "## cuantos no han hecho la PEC1"
   ]
  },
  {
   "cell_type": "code",
   "execution_count": 4,
   "metadata": {},
   "outputs": [
    {
     "name": "stdout",
     "output_type": "stream",
     "text": [
      "70\n",
      " el % es 32.25806451612903\n",
      "0.6028571428571429\n",
      "PECFINAL     4\n",
      "EX           4\n",
      "NOTAFINAL    4\n",
      "PEC1         4\n",
      "PEC3         4\n",
      "PEC2         4\n",
      "dtype: int64\n",
      "NOTAFINAL    6.625\n",
      "dtype: float64\n"
     ]
    }
   ],
   "source": [
    "OP=datos[(datos.PEC1 == 'NP') ]\n",
    "print(OP.shape[0])\n",
    "print(' el % es',OP.shape[0]/N*100)\n",
    "print (OP['NOTAFINAL'].mean())\n",
    "print(OP[OP.NOTAFINAL >=5].count())\n",
    "print(OP[OP.NOTAFINAL >=5].mean())"
   ]
  },
  {
   "cell_type": "markdown",
   "metadata": {},
   "source": [
    "# PEC1 PEC2  PEC3 EX\n",
    "# 0 0 0\n",
    "NO Se ha presentado a la PEC1 y no a la PEC2  y No PEC3"
   ]
  },
  {
   "cell_type": "code",
   "execution_count": 5,
   "metadata": {},
   "outputs": [
    {
     "name": "stdout",
     "output_type": "stream",
     "text": [
      "61\n",
      " el % es 28.110599078341014\n",
      "0.25573770491803277\n",
      "PECFINAL     1\n",
      "EX           1\n",
      "NOTAFINAL    1\n",
      "PEC1         1\n",
      "PEC3         1\n",
      "PEC2         1\n",
      "dtype: int64\n",
      "EX           8.0\n",
      "NOTAFINAL    8.5\n",
      "dtype: float64\n"
     ]
    }
   ],
   "source": [
    "OP=datos[(datos.PEC1 == 'NP') & (datos.PEC2 == 'NP') & (datos.PEC3 == 'NP')]\n",
    "print(OP.shape[0])\n",
    "print(' el % es',OP.shape[0]/N*100)\n",
    "print (OP['NOTAFINAL'].mean())\n",
    "print(OP[OP.NOTAFINAL >=5].count())\n",
    "print (OP[OP.NOTAFINAL >=5].mean())\n"
   ]
  },
  {
   "cell_type": "markdown",
   "metadata": {},
   "source": [
    "# 0 0 0 0\n",
    "NO Se ha presentado a la PEC1 y no a la PEC2 y NO PEC3 y no se ha presentado al examen final\n"
   ]
  },
  {
   "cell_type": "code",
   "execution_count": 6,
   "metadata": {},
   "outputs": [
    {
     "name": "stdout",
     "output_type": "stream",
     "text": [
      "55\n",
      " el % es 25.34562211981567\n",
      "0.0\n"
     ]
    },
    {
     "data": {
      "text/plain": [
       "PECFINAL     0\n",
       "EX           0\n",
       "NOTAFINAL    0\n",
       "PEC1         0\n",
       "PEC3         0\n",
       "PEC2         0\n",
       "dtype: int64"
      ]
     },
     "execution_count": 6,
     "metadata": {},
     "output_type": "execute_result"
    }
   ],
   "source": [
    "OP=datos[(datos.PEC1 == 'NP') & (datos.PEC2 == 'NP') & (datos.PEC3 == 'NP')& (datos.EX == 'NP')]\n",
    "fin=0.0\n",
    "fin=fin+OP.shape[0]/N*100\n",
    "print(OP.shape[0])\n",
    "print(' el % es',OP.shape[0]/N*100)\n",
    "print (OP['NOTAFINAL'].mean())\n",
    "OP[OP.NOTAFINAL >=5].count()"
   ]
  },
  {
   "cell_type": "markdown",
   "metadata": {},
   "source": [
    "# 0 0 0 1\n",
    "NO Se ha presentado a la PEC1 y no a la PEC2 y NO PEC3 y al EXAMEN FINAL ( presentado) SOLO FINAL "
   ]
  },
  {
   "cell_type": "code",
   "execution_count": 7,
   "metadata": {},
   "outputs": [
    {
     "name": "stdout",
     "output_type": "stream",
     "text": [
      "6\n",
      " el % es 2.7649769585253456\n",
      "2.6\n",
      "PECFINAL     1\n",
      "EX           1\n",
      "NOTAFINAL    1\n",
      "PEC1         1\n",
      "PEC3         1\n",
      "PEC2         1\n",
      "dtype: int64\n",
      "EX           8.0\n",
      "NOTAFINAL    8.5\n",
      "dtype: float64\n"
     ]
    }
   ],
   "source": [
    "OP=datos[(datos.PEC1 == 'NP') & (datos.PEC2 == 'NP') & (datos.PEC3 == 'NP')& (datos.EX != 'NP')]\n",
    "print(OP.shape[0])\n",
    "print(' el % es',OP.shape[0]/N*100)\n",
    "print (OP['NOTAFINAL'].mean())\n",
    "print(OP[OP.NOTAFINAL >=5].count())\n",
    "print(OP[OP.NOTAFINAL >=5].mean())\n",
    "fin=fin+OP.shape[0]/N*100\n",
    "\n",
    "#OP.head(26)\n"
   ]
  },
  {
   "cell_type": "markdown",
   "metadata": {},
   "source": [
    "# 0 0 1 0\n",
    "NO Se ha presentado a la PEC1 y no a la PEC2 y SI PEC3 y NO al EXAMEN FINAL ( presentado) SOLO FINAL "
   ]
  },
  {
   "cell_type": "code",
   "execution_count": 8,
   "metadata": {},
   "outputs": [
    {
     "name": "stdout",
     "output_type": "stream",
     "text": [
      "1\n",
      " el % es 0.4608294930875576\n",
      "0.0\n",
      "PECFINAL     0\n",
      "EX           0\n",
      "NOTAFINAL    0\n",
      "PEC1         0\n",
      "PEC3         0\n",
      "PEC2         0\n",
      "dtype: int64\n",
      "PECFINAL    NaN\n",
      "EX          NaN\n",
      "NOTAFINAL   NaN\n",
      "PEC1        NaN\n",
      "PEC3        NaN\n",
      "PEC2        NaN\n",
      "dtype: float64\n"
     ]
    }
   ],
   "source": [
    "OP=datos[(datos.PEC1 == 'NP') & (datos.PEC2 == 'NP') & (datos.PEC3 != 'NP')& (datos.EX == 'NP')]\n",
    "print(OP.shape[0])\n",
    "print(' el % es',OP.shape[0]/N*100)\n",
    "print (OP['NOTAFINAL'].mean())\n",
    "print(OP[OP.NOTAFINAL >=5].count())\n",
    "print(OP[OP.NOTAFINAL >=5].mean())\n",
    "fin=fin+OP.shape[0]/N*100\n",
    "#OP.head(26)\n"
   ]
  },
  {
   "cell_type": "markdown",
   "metadata": {},
   "source": [
    "# 0 0 1 1\n",
    "NO Se ha presentado a la PEC1 y no a la PEC2 y Si PEC3 y al EXAMEN FINAL ( presentado) SOLO FINAL "
   ]
  },
  {
   "cell_type": "code",
   "execution_count": 9,
   "metadata": {},
   "outputs": [
    {
     "name": "stdout",
     "output_type": "stream",
     "text": [
      "1\n",
      " el % es 0.4608294930875576\n",
      "5.0\n",
      "PECFINAL     1\n",
      "EX           1\n",
      "NOTAFINAL    1\n",
      "PEC1         1\n",
      "PEC3         1\n",
      "PEC2         1\n",
      "dtype: int64\n",
      "NOTAFINAL     5.0\n",
      "PEC3         15.0\n",
      "dtype: float64\n"
     ]
    }
   ],
   "source": [
    "OP=datos[(datos.PEC1 == 'NP') & (datos.PEC2 == 'NP') & (datos.PEC3 != 'NP')& (datos.EX != 'NP')]\n",
    "print(OP.shape[0])\n",
    "print(' el % es',OP.shape[0]/N*100)\n",
    "print (OP['NOTAFINAL'].mean())\n",
    "print(OP[OP.NOTAFINAL >=5].count())\n",
    "print(OP[OP.NOTAFINAL >=5].mean())\n",
    "fin=fin+OP.shape[0]/N*100\n",
    "#OP.head(26)\n"
   ]
  },
  {
   "cell_type": "markdown",
   "metadata": {},
   "source": [
    "# 0 1 0 0\n",
    "NO Se ha presentado a la PEC1 y SI a la PEC2 y NO PEC3 y NO EXAMEN FINAL ( presentado) SOLO FINAL "
   ]
  },
  {
   "cell_type": "code",
   "execution_count": 10,
   "metadata": {},
   "outputs": [
    {
     "name": "stdout",
     "output_type": "stream",
     "text": [
      "0\n",
      " el % es 0.0\n",
      "nan\n",
      "PECFINAL     0\n",
      "EX           0\n",
      "NOTAFINAL    0\n",
      "PEC1         0\n",
      "PEC3         0\n",
      "PEC2         0\n",
      "dtype: int64\n",
      "PECFINAL    NaN\n",
      "EX          NaN\n",
      "NOTAFINAL   NaN\n",
      "PEC1        NaN\n",
      "PEC3        NaN\n",
      "PEC2        NaN\n",
      "dtype: float64\n"
     ]
    }
   ],
   "source": [
    "OP=datos[(datos.PEC1 == 'NP') & (datos.PEC2 != 'NP') & (datos.PEC3 == 'NP')& (datos.EX == 'NP')]\n",
    "print(OP.shape[0])\n",
    "print(' el % es',OP.shape[0]/N*100)\n",
    "print (OP['NOTAFINAL'].mean())\n",
    "print(OP[OP.NOTAFINAL >=5].count())\n",
    "print(OP[OP.NOTAFINAL >=5].mean())\n",
    "\n",
    "#OP.head(26)\n",
    "fin=fin+OP.shape[0]/N*100"
   ]
  },
  {
   "cell_type": "markdown",
   "metadata": {},
   "source": [
    "# 0 1 0 1\n",
    "NO Se ha presentado a la PEC1 y SI a la PEC2 y NO PEC3 y al EXAMEN FINAL ( presentado) SOLO FINAL "
   ]
  },
  {
   "cell_type": "code",
   "execution_count": 11,
   "metadata": {},
   "outputs": [
    {
     "name": "stdout",
     "output_type": "stream",
     "text": [
      "2\n",
      " el % es 0.9216589861751152\n",
      "3.8499999999999996\n",
      "PECFINAL     0\n",
      "EX           0\n",
      "NOTAFINAL    0\n",
      "PEC1         0\n",
      "PEC3         0\n",
      "PEC2         0\n",
      "dtype: int64\n",
      "PECFINAL    NaN\n",
      "EX          NaN\n",
      "NOTAFINAL   NaN\n",
      "PEC1        NaN\n",
      "PEC3        NaN\n",
      "PEC2        NaN\n",
      "dtype: float64\n"
     ]
    }
   ],
   "source": [
    "OP=datos[(datos.PEC1 == 'NP') & (datos.PEC2 != 'NP') & (datos.PEC3 == 'NP')& (datos.EX != 'NP')]\n",
    "print(OP.shape[0])\n",
    "print(' el % es',OP.shape[0]/N*100)\n",
    "print (OP['NOTAFINAL'].mean())\n",
    "print(OP[OP.NOTAFINAL >=5].count())\n",
    "print(OP[OP.NOTAFINAL >=5].mean())\n",
    "\n",
    "#OP.head(26)\n",
    "fin=fin+OP.shape[0]/N*100"
   ]
  },
  {
   "cell_type": "markdown",
   "metadata": {},
   "source": [
    "# 0 1 1 0\n",
    "NO Se ha presentado a la PEC1 y SI a la PEC2 y SI PEC3 y NO al EXAMEN FINAL ( presentado) SOLO FINAL "
   ]
  },
  {
   "cell_type": "code",
   "execution_count": 12,
   "metadata": {},
   "outputs": [
    {
     "name": "stdout",
     "output_type": "stream",
     "text": [
      "2\n",
      " el % es 0.9216589861751152\n",
      "0.0\n",
      "PECFINAL     0\n",
      "EX           0\n",
      "NOTAFINAL    0\n",
      "PEC1         0\n",
      "PEC3         0\n",
      "PEC2         0\n",
      "dtype: int64\n",
      "PECFINAL    NaN\n",
      "EX          NaN\n",
      "NOTAFINAL   NaN\n",
      "PEC1        NaN\n",
      "PEC3        NaN\n",
      "PEC2        NaN\n",
      "dtype: float64\n"
     ]
    }
   ],
   "source": [
    "OP=datos[(datos.PEC1 == 'NP') & (datos.PEC2 != 'NP') & (datos.PEC3 != 'NP')& (datos.EX == 'NP')]\n",
    "print(OP.shape[0])\n",
    "print(' el % es',OP.shape[0]/N*100)\n",
    "print (OP['NOTAFINAL'].mean())\n",
    "print(OP[OP.NOTAFINAL >=5].count())\n",
    "print(OP[OP.NOTAFINAL >=5].mean())\n",
    "\n",
    "#OP.head(26)\n",
    "fin=fin+OP.shape[0]/N*100"
   ]
  },
  {
   "cell_type": "markdown",
   "metadata": {},
   "source": [
    "# 0 1 1 1\n",
    "NO Se ha presentado a la PEC1 y SI a la PEC2 y SI PEC3 y al EXAMEN FINAL ( presentado) SOLO FINAL "
   ]
  },
  {
   "cell_type": "code",
   "execution_count": 13,
   "metadata": {},
   "outputs": [
    {
     "name": "stdout",
     "output_type": "stream",
     "text": [
      "3\n",
      " el % es 1.3824884792626728\n",
      "4.633333333333334\n",
      "PECFINAL     2\n",
      "EX           2\n",
      "NOTAFINAL    2\n",
      "PEC1         2\n",
      "PEC3         2\n",
      "PEC2         2\n",
      "dtype: int64\n",
      "NOTAFINAL      6.50\n",
      "PEC3         756.75\n",
      "PEC2          26.50\n",
      "dtype: float64\n"
     ]
    }
   ],
   "source": [
    "OP=datos[(datos.PEC1 == 'NP') & (datos.PEC2 != 'NP') & (datos.PEC3 != 'NP')& (datos.EX != 'NP')]\n",
    "print(OP.shape[0])\n",
    "print(' el % es',OP.shape[0]/N*100)\n",
    "print (OP['NOTAFINAL'].mean())\n",
    "print(OP[OP.NOTAFINAL >=5].count())\n",
    "print(OP[OP.NOTAFINAL >=5].mean())\n",
    "\n",
    "#OP.head(26)\n",
    "fin=fin+OP.shape[0]/N*100"
   ]
  },
  {
   "cell_type": "markdown",
   "metadata": {},
   "source": [
    "# 1 0 0 0\n",
    " Se ha presentado a la PEC1 y no a la PEC2 y NO PEC3 y no se ha presentado al examen final\n"
   ]
  },
  {
   "cell_type": "code",
   "execution_count": 14,
   "metadata": {},
   "outputs": [
    {
     "name": "stdout",
     "output_type": "stream",
     "text": [
      "9\n",
      " el % es 4.147465437788019\n",
      "0.0\n"
     ]
    }
   ],
   "source": [
    "OP=datos[(datos.PEC1 != 'NP') & (datos.PEC2 == 'NP') & (datos.PEC3 == 'NP')& (datos.EX == 'NP')]\n",
    "\n",
    "print(OP.shape[0])\n",
    "print(' el % es',OP.shape[0]/N*100)\n",
    "print (OP['NOTAFINAL'].mean())\n",
    "OP[OP.NOTAFINAL >=5].count()\n",
    "fin=fin+OP.shape[0]/N*100"
   ]
  },
  {
   "cell_type": "markdown",
   "metadata": {},
   "source": [
    "# 1 0 0 1\n",
    " Se ha presentado a la PEC1 y no a la PEC2 y NO PEC3 y al EXAMEN FINAL ( presentado) SOLO FINAL "
   ]
  },
  {
   "cell_type": "code",
   "execution_count": 15,
   "metadata": {},
   "outputs": [
    {
     "name": "stdout",
     "output_type": "stream",
     "text": [
      "7\n",
      " el % es 3.225806451612903\n",
      "2.2714285714285714\n",
      "PECFINAL     1\n",
      "EX           1\n",
      "NOTAFINAL    1\n",
      "PEC1         1\n",
      "PEC3         1\n",
      "PEC2         1\n",
      "dtype: int64\n",
      "PECFINAL     3.0\n",
      "NOTAFINAL    9.5\n",
      "PEC1         6.0\n",
      "dtype: float64\n"
     ]
    }
   ],
   "source": [
    "OP=datos[(datos.PEC1 != 'NP') & (datos.PEC2 == 'NP') & (datos.PEC3 == 'NP')& (datos.EX != 'NP')]\n",
    "print(OP.shape[0])\n",
    "print(' el % es',OP.shape[0]/N*100)\n",
    "print (OP['NOTAFINAL'].mean())\n",
    "print(OP[OP.NOTAFINAL >=5].count())\n",
    "print(OP[OP.NOTAFINAL >=5].mean())\n",
    "\n",
    "#OP.head(26)\n",
    "fin=fin+OP.shape[0]/N*100"
   ]
  },
  {
   "cell_type": "markdown",
   "metadata": {},
   "source": [
    "# 1 0 1 0\n",
    " Se ha presentado a la PEC1 y no a la PEC2 y SI PEC3 y NO al EXAMEN FINAL ( presentado) SOLO FINAL "
   ]
  },
  {
   "cell_type": "code",
   "execution_count": 16,
   "metadata": {},
   "outputs": [
    {
     "name": "stdout",
     "output_type": "stream",
     "text": [
      "2\n",
      " el % es 0.9216589861751152\n",
      "0.0\n",
      "PECFINAL     0\n",
      "EX           0\n",
      "NOTAFINAL    0\n",
      "PEC1         0\n",
      "PEC3         0\n",
      "PEC2         0\n",
      "dtype: int64\n",
      "PECFINAL    NaN\n",
      "EX          NaN\n",
      "NOTAFINAL   NaN\n",
      "PEC1        NaN\n",
      "PEC3        NaN\n",
      "PEC2        NaN\n",
      "dtype: float64\n"
     ]
    }
   ],
   "source": [
    "OP=datos[(datos.PEC1 != 'NP') & (datos.PEC2 == 'NP') & (datos.PEC3 != 'NP')& (datos.EX == 'NP')]\n",
    "print(OP.shape[0])\n",
    "print(' el % es',OP.shape[0]/N*100)\n",
    "print (OP['NOTAFINAL'].mean())\n",
    "print(OP[OP.NOTAFINAL >=5].count())\n",
    "print(OP[OP.NOTAFINAL >=5].mean())\n",
    "\n",
    "#OP.head(26)\n",
    "fin=fin+OP.shape[0]/N*100"
   ]
  },
  {
   "cell_type": "markdown",
   "metadata": {},
   "source": [
    "# 1 0 1 1\n",
    "Se ha presentado a la PEC1 y no a la PEC2 y Si PEC3 y al EXAMEN FINAL ( presentado) SOLO FINAL "
   ]
  },
  {
   "cell_type": "code",
   "execution_count": 17,
   "metadata": {},
   "outputs": [
    {
     "name": "stdout",
     "output_type": "stream",
     "text": [
      "3\n",
      " el % es 1.3824884792626728\n",
      "4.233333333333333\n",
      "PECFINAL     2\n",
      "EX           2\n",
      "NOTAFINAL    2\n",
      "PEC1         2\n",
      "PEC3         2\n",
      "PEC2         2\n",
      "dtype: int64\n",
      "NOTAFINAL     6.2\n",
      "PEC1         39.5\n",
      "dtype: float64\n"
     ]
    }
   ],
   "source": [
    "OP=datos[(datos.PEC1 != 'NP') & (datos.PEC2 == 'NP') & (datos.PEC3 != 'NP')& (datos.EX != 'NP')]\n",
    "print(OP.shape[0])\n",
    "print(' el % es',OP.shape[0]/N*100)\n",
    "print (OP['NOTAFINAL'].mean())\n",
    "print(OP[OP.NOTAFINAL >=5].count())\n",
    "print(OP[OP.NOTAFINAL >=5].mean())\n",
    "\n",
    "#OP.head(26)\n",
    "fin=fin+OP.shape[0]/N*100"
   ]
  },
  {
   "cell_type": "markdown",
   "metadata": {},
   "source": [
    "# 1 1 0 0\n",
    "Se ha presentado a la PEC1 y SI a la PEC2 y NO PEC3 y NO EXAMEN FINAL ( presentado) SOLO FINAL "
   ]
  },
  {
   "cell_type": "code",
   "execution_count": 18,
   "metadata": {},
   "outputs": [
    {
     "name": "stdout",
     "output_type": "stream",
     "text": [
      "14\n",
      " el % es 6.451612903225806\n",
      "0.0\n",
      "PECFINAL     0\n",
      "EX           0\n",
      "NOTAFINAL    0\n",
      "PEC1         0\n",
      "PEC3         0\n",
      "PEC2         0\n",
      "dtype: int64\n",
      "PECFINAL    NaN\n",
      "EX          NaN\n",
      "NOTAFINAL   NaN\n",
      "PEC1        NaN\n",
      "PEC3        NaN\n",
      "PEC2        NaN\n",
      "dtype: float64\n"
     ]
    }
   ],
   "source": [
    "OP=datos[(datos.PEC1 != 'NP') & (datos.PEC2 != 'NP') & (datos.PEC3 == 'NP')& (datos.EX == 'NP')]\n",
    "print(OP.shape[0])\n",
    "print(' el % es',OP.shape[0]/N*100)\n",
    "print (OP['NOTAFINAL'].mean())\n",
    "print(OP[OP.NOTAFINAL >=5].count())\n",
    "print(OP[OP.NOTAFINAL >=5].mean())\n",
    "\n",
    "#OP.head(26)\n",
    "fin=fin+OP.shape[0]/N*100"
   ]
  },
  {
   "cell_type": "markdown",
   "metadata": {},
   "source": [
    "# 1 1 0 1\n",
    " Se ha presentado a la PEC1 y SI a la PEC2 y NO PEC3 y al EXAMEN FINAL ( presentado) SOLO FINAL "
   ]
  },
  {
   "cell_type": "code",
   "execution_count": 19,
   "metadata": {},
   "outputs": [
    {
     "name": "stdout",
     "output_type": "stream",
     "text": [
      "42\n",
      " el % es 19.35483870967742\n",
      "3.964285714285715\n",
      "PECFINAL     22\n",
      "EX           22\n",
      "NOTAFINAL    22\n",
      "PEC1         22\n",
      "PEC3         22\n",
      "PEC2         22\n",
      "dtype: int64\n",
      "NOTAFINAL    5.759091e+00\n",
      "PEC1         4.868228e+33\n",
      "dtype: float64\n"
     ]
    }
   ],
   "source": [
    "OP=datos[(datos.PEC1 != 'NP') & (datos.PEC2 != 'NP') & (datos.PEC3 == 'NP')& (datos.EX != 'NP')]\n",
    "print(OP.shape[0])\n",
    "print(' el % es',OP.shape[0]/N*100)\n",
    "print (OP['NOTAFINAL'].mean())\n",
    "print(OP[OP.NOTAFINAL >=5].count())\n",
    "print(OP[OP.NOTAFINAL >=5].mean())\n",
    "\n",
    "#OP.head(26)\n",
    "fin=fin+OP.shape[0]/N*100"
   ]
  },
  {
   "cell_type": "markdown",
   "metadata": {},
   "source": [
    "# 1 1 1 0\n",
    " Se ha presentado a la PEC1 y SI a la PEC2 y SI PEC3 y NO al EXAMEN FINAL ( presentado) SOLO FINAL "
   ]
  },
  {
   "cell_type": "code",
   "execution_count": 20,
   "metadata": {},
   "outputs": [
    {
     "name": "stdout",
     "output_type": "stream",
     "text": [
      "6\n",
      " el % es 2.7649769585253456\n",
      "0.0\n",
      "PECFINAL     0\n",
      "EX           0\n",
      "NOTAFINAL    0\n",
      "PEC1         0\n",
      "PEC3         0\n",
      "PEC2         0\n",
      "dtype: int64\n",
      "PECFINAL    NaN\n",
      "EX          NaN\n",
      "NOTAFINAL   NaN\n",
      "PEC1        NaN\n",
      "PEC3        NaN\n",
      "PEC2        NaN\n",
      "dtype: float64\n"
     ]
    }
   ],
   "source": [
    "OP=datos[(datos.PEC1 != 'NP') & (datos.PEC2 != 'NP') & (datos.PEC3 != 'NP')& (datos.EX == 'NP')]\n",
    "print(OP.shape[0])\n",
    "print(' el % es',OP.shape[0]/N*100)\n",
    "print (OP['NOTAFINAL'].mean())\n",
    "print(OP[OP.NOTAFINAL >=5].count())\n",
    "print(OP[OP.NOTAFINAL >=5].mean())\n",
    "\n",
    "#OP.head(26)\n",
    "fin=fin+OP.shape[0]/N*100"
   ]
  },
  {
   "cell_type": "markdown",
   "metadata": {},
   "source": [
    "# 1 1 1 1\n",
    " Se ha presentado a la PEC1 y SI a la PEC2 y SI PEC3 y al EXAMEN FINAL ( presentado) SOLO FINAL "
   ]
  },
  {
   "cell_type": "code",
   "execution_count": 21,
   "metadata": {},
   "outputs": [
    {
     "name": "stdout",
     "output_type": "stream",
     "text": [
      "64\n",
      " el % es 29.493087557603687\n",
      "5.9953125\n",
      "PECFINAL     49\n",
      "EX           49\n",
      "NOTAFINAL    49\n",
      "PEC1         49\n",
      "PEC3         49\n",
      "PEC2         49\n",
      "dtype: int64\n",
      "NOTAFINAL    7.151020e+00\n",
      "PEC1         2.226551e+75\n",
      "dtype: float64\n",
      "100.00000000000001\n"
     ]
    }
   ],
   "source": [
    "OP=datos[(datos.PEC1 != 'NP') & (datos.PEC2 != 'NP') & (datos.PEC3 != 'NP')& (datos.EX != 'NP')]\n",
    "print(OP.shape[0])\n",
    "print(' el % es',OP.shape[0]/N*100)\n",
    "print (OP['NOTAFINAL'].mean())\n",
    "print(OP[OP.NOTAFINAL >=5].count())\n",
    "print(OP[OP.NOTAFINAL >=5].mean())\n",
    "\n",
    "#OP.head(26)\n",
    "fin=fin+OP.shape[0]/N*100\n",
    "print(fin)"
   ]
  },
  {
   "cell_type": "markdown",
   "metadata": {},
   "source": [
    "# 0 \n",
    "NO Se ha presentado a la PEC1 "
   ]
  },
  {
   "cell_type": "code",
   "execution_count": 29,
   "metadata": {},
   "outputs": [
    {
     "name": "stdout",
     "output_type": "stream",
     "text": [
      "70\n",
      " el % es 32.25806451612903\n",
      "0.6028571428571429\n",
      "PECFINAL     4\n",
      "EX           4\n",
      "NOTAFINAL    4\n",
      "PEC1         4\n",
      "PEC3         4\n",
      "PEC2         4\n",
      "dtype: int64\n",
      "NOTAFINAL    6.625\n",
      "dtype: float64\n",
      "99.95000000000002\n",
      "99.97\n"
     ]
    }
   ],
   "source": [
    "OP=datos[(datos.PEC1=='NP')]\n",
    "print(OP.shape[0])\n",
    "print(' el % es',OP.shape[0]/N*100)\n",
    "print (OP['NOTAFINAL'].mean())\n",
    "print(OP[OP.NOTAFINAL >=5].count())\n",
    "print(OP[OP.NOTAFINAL >=5].mean())\n",
    "\n",
    "#OP.head(26)\n",
    "\n",
    "print (19+1.65+3.72+1.65+1.65+0.41+0.41+6.61+3.72+2.48+0.41+4.96+13.22+5.37+34.71)"
   ]
  },
  {
   "cell_type": "code",
   "execution_count": 23,
   "metadata": {},
   "outputs": [
    {
     "data": {
      "text/plain": [
       "217"
      ]
     },
     "execution_count": 23,
     "metadata": {},
     "output_type": "execute_result"
    }
   ],
   "source": [
    "N"
   ]
  },
  {
   "cell_type": "code",
   "execution_count": 33,
   "metadata": {},
   "outputs": [
    {
     "name": "stdout",
     "output_type": "stream",
     "text": [
      "100.03\n"
     ]
    }
   ],
   "source": [
    "print (25.34 +2.80 +0.46+0.46+0.92+0.92+1.38+4.14+3.22+0.92+1.38+6.45+19.35+2.80+29.49)\n"
   ]
  },
  {
   "cell_type": "code",
   "execution_count": null,
   "metadata": {},
   "outputs": [],
   "source": [
    "  "
   ]
  }
 ],
 "metadata": {
  "kernelspec": {
   "display_name": "Python 3",
   "language": "python",
   "name": "python3"
  },
  "language_info": {
   "codemirror_mode": {
    "name": "ipython",
    "version": 3
   },
   "file_extension": ".py",
   "mimetype": "text/x-python",
   "name": "python",
   "nbconvert_exporter": "python",
   "pygments_lexer": "ipython3",
   "version": "3.7.7"
  }
 },
 "nbformat": 4,
 "nbformat_minor": 4
}
