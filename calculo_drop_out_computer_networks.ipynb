{
 "cells": [
  {
   "cell_type": "code",
   "execution_count": 1,
   "metadata": {},
   "outputs": [
    {
     "data": {
      "text/html": [
       "<div>\n",
       "<style scoped>\n",
       "    .dataframe tbody tr th:only-of-type {\n",
       "        vertical-align: middle;\n",
       "    }\n",
       "\n",
       "    .dataframe tbody tr th {\n",
       "        vertical-align: top;\n",
       "    }\n",
       "\n",
       "    .dataframe thead th {\n",
       "        text-align: right;\n",
       "    }\n",
       "</style>\n",
       "<table border=\"1\" class=\"dataframe\">\n",
       "  <thead>\n",
       "    <tr style=\"text-align: right;\">\n",
       "      <th></th>\n",
       "      <th>PEC1</th>\n",
       "      <th>EX</th>\n",
       "      <th>PEC2</th>\n",
       "      <th>NOTAFINAL</th>\n",
       "    </tr>\n",
       "  </thead>\n",
       "  <tbody>\n",
       "    <tr>\n",
       "      <th>0</th>\n",
       "      <td>NaN</td>\n",
       "      <td>5,6</td>\n",
       "      <td>NaN</td>\n",
       "      <td>4.5</td>\n",
       "    </tr>\n",
       "    <tr>\n",
       "      <th>1</th>\n",
       "      <td>3,5</td>\n",
       "      <td>6,8</td>\n",
       "      <td>8</td>\n",
       "      <td>6.6</td>\n",
       "    </tr>\n",
       "    <tr>\n",
       "      <th>2</th>\n",
       "      <td>NaN</td>\n",
       "      <td>NaN</td>\n",
       "      <td>NaN</td>\n",
       "      <td>0.0</td>\n",
       "    </tr>\n",
       "    <tr>\n",
       "      <th>3</th>\n",
       "      <td>NaN</td>\n",
       "      <td>NaN</td>\n",
       "      <td>NaN</td>\n",
       "      <td>0.0</td>\n",
       "    </tr>\n",
       "    <tr>\n",
       "      <th>4</th>\n",
       "      <td>6,5</td>\n",
       "      <td>.60</td>\n",
       "      <td>3,2</td>\n",
       "      <td>0.5</td>\n",
       "    </tr>\n",
       "    <tr>\n",
       "      <th>5</th>\n",
       "      <td>6,5</td>\n",
       "      <td>3,9</td>\n",
       "      <td>7,3</td>\n",
       "      <td>3.1</td>\n",
       "    </tr>\n",
       "    <tr>\n",
       "      <th>6</th>\n",
       "      <td>NaN</td>\n",
       "      <td>NaN</td>\n",
       "      <td>NaN</td>\n",
       "      <td>0.0</td>\n",
       "    </tr>\n",
       "    <tr>\n",
       "      <th>7</th>\n",
       "      <td>NaN</td>\n",
       "      <td>NaN</td>\n",
       "      <td>NaN</td>\n",
       "      <td>0.0</td>\n",
       "    </tr>\n",
       "    <tr>\n",
       "      <th>8</th>\n",
       "      <td>7,2</td>\n",
       "      <td>NaN</td>\n",
       "      <td>8</td>\n",
       "      <td>0.0</td>\n",
       "    </tr>\n",
       "    <tr>\n",
       "      <th>9</th>\n",
       "      <td>6,5</td>\n",
       "      <td>1,3</td>\n",
       "      <td>7,7</td>\n",
       "      <td>1.0</td>\n",
       "    </tr>\n",
       "    <tr>\n",
       "      <th>10</th>\n",
       "      <td>3,3</td>\n",
       "      <td>NaN</td>\n",
       "      <td>NaN</td>\n",
       "      <td>0.0</td>\n",
       "    </tr>\n",
       "  </tbody>\n",
       "</table>\n",
       "</div>"
      ],
      "text/plain": [
       "   PEC1   EX PEC2  NOTAFINAL\n",
       "0   NaN  5,6  NaN        4.5\n",
       "1   3,5  6,8    8        6.6\n",
       "2   NaN  NaN  NaN        0.0\n",
       "3   NaN  NaN  NaN        0.0\n",
       "4   6,5  .60  3,2        0.5\n",
       "5   6,5  3,9  7,3        3.1\n",
       "6   NaN  NaN  NaN        0.0\n",
       "7   NaN  NaN  NaN        0.0\n",
       "8   7,2  NaN    8        0.0\n",
       "9   6,5  1,3  7,7        1.0\n",
       "10  3,3  NaN  NaN        0.0"
      ]
     },
     "execution_count": 1,
     "metadata": {},
     "output_type": "execute_result"
    }
   ],
   "source": [
    "import pandas as pd  \n",
    "import numpy as np\n",
    "#df = pd.read_csv(\"./iCloud/proyectos_python/2020_notas_rede_de _computadores.csv\", sep=\";\",encoding='iso-8859-1')\n",
    "#df = pd.read_csv(\"2020_notas.csv\", sep=\";\",encoding='iso-8859-1')\n",
    "df = pd.read_csv(\"2019_notas.csv\", sep=\";\",encoding='iso-8859-1')\n",
    "datos=df[ ['PEC1','PEC2','EX','NOTAFINAL']]\n",
    "#df = pd.read_csv(\"2020_notas_ok_limpio_bd.csv\", sep=\";\",encoding='iso-8859-1')\n",
    "#df = pd.read_csv(\"2019_notas_ok_limpio_bd.csv\", sep=\";\",encoding='iso-8859-1')\n",
    "#datos=df[ ['PEC1','PEC2','PEC3','EX','NOTAFINAL']]\n",
    "df.head()\n",
    "datos=df\n",
    "\n",
    "\n",
    "\n",
    "\n",
    "N=len(datos)\n",
    "datos.head(11)\n",
    "#res = pd.DataFrame(columns=('OPC1', 'OPC2', 'OF','PC12F', 'PC1F'))"
   ]
  },
  {
   "cell_type": "code",
   "execution_count": 2,
   "metadata": {},
   "outputs": [
    {
     "name": "stdout",
     "output_type": "stream",
     "text": [
      "<class 'pandas.core.frame.DataFrame'>\n",
      "<class 'str'>\n",
      "NP\n"
     ]
    }
   ],
   "source": [
    "print(type(datos))\n",
    "\n",
    "datos1=datos.fillna('NP')\n",
    "\n",
    "print(type(datos1['PEC1'][0]))\n",
    "print(datos1['PEC1'][0])\n",
    "datos1.head(5)\n",
    "datos=datos1\n",
    "datos.head(5)\n",
    "datos.NOTAFINAL[3]\n",
    "datos.NOTAFINAL=pd.to_numeric(datos.NOTAFINAL)"
   ]
  },
  {
   "cell_type": "code",
   "execution_count": 3,
   "metadata": {},
   "outputs": [
    {
     "data": {
      "text/plain": [
       "pandas.core.series.Series"
      ]
     },
     "execution_count": 3,
     "metadata": {},
     "output_type": "execute_result"
    }
   ],
   "source": [
    "\n",
    "type(datos['PEC1'])\n"
   ]
  },
  {
   "cell_type": "markdown",
   "metadata": {},
   "source": [
    "## cuantos no han hecho la PEC1"
   ]
  },
  {
   "cell_type": "code",
   "execution_count": 4,
   "metadata": {},
   "outputs": [
    {
     "name": "stdout",
     "output_type": "stream",
     "text": [
      "213\n",
      " el % es 56.8\n",
      "3.033802816901409\n",
      "PEC1         68\n",
      "EX           68\n",
      "PEC2         68\n",
      "NOTAFINAL    68\n",
      "dtype: int64\n",
      "NOTAFINAL    6.873529\n",
      "dtype: float64\n"
     ]
    }
   ],
   "source": [
    "OP=datos[(datos.PEC1 != 'NP') ]\n",
    "print(OP.shape[0])\n",
    "print(' el % es',OP.shape[0]/N*100)\n",
    "print (OP['NOTAFINAL'].mean())\n",
    "print(OP[OP.NOTAFINAL >=5].count())\n",
    "print(OP[OP.NOTAFINAL >=5].mean())"
   ]
  },
  {
   "cell_type": "markdown",
   "metadata": {},
   "source": [
    "# PEC1 PEC2 EX\n",
    "# 0 0\n",
    "NO Se ha presentado a la PEC1 y no a la PEC2 "
   ]
  },
  {
   "cell_type": "code",
   "execution_count": 5,
   "metadata": {},
   "outputs": [
    {
     "name": "stdout",
     "output_type": "stream",
     "text": [
      "147\n",
      " el % es 39.2\n",
      "0.3707482993197279\n"
     ]
    },
    {
     "data": {
      "text/plain": [
       "PEC1         1\n",
       "EX           1\n",
       "PEC2         1\n",
       "NOTAFINAL    1\n",
       "dtype: int64"
      ]
     },
     "execution_count": 5,
     "metadata": {},
     "output_type": "execute_result"
    }
   ],
   "source": [
    "OP=datos[(datos.PEC1 == 'NP') & (datos.PEC2 == 'NP')]\n",
    "print(OP.shape[0])\n",
    "print(' el % es',OP.shape[0]/N*100)\n",
    "print (OP['NOTAFINAL'].mean())\n",
    "OP[OP.NOTAFINAL >=5].count()\n"
   ]
  },
  {
   "cell_type": "markdown",
   "metadata": {},
   "source": [
    "# 0 0 0\n",
    "NO Se ha presentado a la PEC1 y no a la PEC2 y  no se ha presentado al examen final\n"
   ]
  },
  {
   "cell_type": "code",
   "execution_count": 6,
   "metadata": {},
   "outputs": [
    {
     "name": "stdout",
     "output_type": "stream",
     "text": [
      "125\n",
      " el % es 33.33333333333333\n",
      "0.0\n"
     ]
    },
    {
     "data": {
      "text/plain": [
       "PEC1         0\n",
       "EX           0\n",
       "PEC2         0\n",
       "NOTAFINAL    0\n",
       "dtype: int64"
      ]
     },
     "execution_count": 6,
     "metadata": {},
     "output_type": "execute_result"
    }
   ],
   "source": [
    "OP=datos[(datos.PEC1 == 'NP') & (datos.PEC2 == 'NP') & (datos.EX == 'NP')]\n",
    "OP=datos[(datos.PEC1 == 'NP') & (datos.PEC2 == 'NP') & (datos.EX == 'NP')]\n",
    "print(OP.shape[0])\n",
    "print(' el % es',OP.shape[0]/N*100)\n",
    "print (OP['NOTAFINAL'].mean())\n",
    "OP[OP.NOTAFINAL >=5].count()"
   ]
  },
  {
   "cell_type": "markdown",
   "metadata": {},
   "source": [
    "# 0 0 1\n",
    "NO Se ha presentado a la PEC1 y no a la PEC2 y  al EXAMEN FINAL ( presentado) SOLO FINAL "
   ]
  },
  {
   "cell_type": "code",
   "execution_count": 7,
   "metadata": {},
   "outputs": [
    {
     "name": "stdout",
     "output_type": "stream",
     "text": [
      "22\n",
      " el % es 5.866666666666666\n",
      "2.4772727272727275\n",
      "PEC1         1\n",
      "EX           1\n",
      "PEC2         1\n",
      "NOTAFINAL    1\n",
      "dtype: int64\n",
      "NOTAFINAL    7.5\n",
      "dtype: float64\n"
     ]
    }
   ],
   "source": [
    "OP=datos[(datos.PEC1 == 'NP') & (datos.PEC2 == 'NP') & (datos.EX != 'NP')]\n",
    "print(OP.shape[0])\n",
    "print(' el % es',OP.shape[0]/N*100)\n",
    "print (OP['NOTAFINAL'].mean())\n",
    "print(OP[OP.NOTAFINAL >=5].count())\n",
    "print(OP[OP.NOTAFINAL >=5].mean())\n",
    "\n",
    "#OP.head(26)\n"
   ]
  },
  {
   "cell_type": "markdown",
   "metadata": {},
   "source": [
    "# 0 1\n",
    "N0 Se ha presentado a la PEC1 y si a la PEC2"
   ]
  },
  {
   "cell_type": "code",
   "execution_count": 8,
   "metadata": {},
   "outputs": [
    {
     "name": "stdout",
     "output_type": "stream",
     "text": [
      "15\n",
      " el % es 4.0\n",
      "2.4133333333333336\n"
     ]
    },
    {
     "data": {
      "text/plain": [
       "PEC1         2\n",
       "EX           2\n",
       "PEC2         2\n",
       "NOTAFINAL    2\n",
       "dtype: int64"
      ]
     },
     "execution_count": 8,
     "metadata": {},
     "output_type": "execute_result"
    }
   ],
   "source": [
    "OP=datos[(datos.PEC1 == 'NP') & (datos.PEC2 != 'NP')]\n",
    "print(OP.shape[0])\n",
    "print(' el % es',OP.shape[0]/N*100)\n",
    "print (OP['NOTAFINAL'].mean())\n",
    "OP[OP.NOTAFINAL >=5].count()"
   ]
  },
  {
   "cell_type": "markdown",
   "metadata": {},
   "source": [
    "# 0 1 1\n",
    "N0 Se ha presentado a la PEC1 y si a la PEC2 y al EXAMEN la FINAL ( presentado)"
   ]
  },
  {
   "cell_type": "code",
   "execution_count": 9,
   "metadata": {},
   "outputs": [
    {
     "name": "stdout",
     "output_type": "stream",
     "text": [
      "11\n",
      " el % es 2.933333333333333\n",
      "3.290909090909091\n",
      "media nota NOTAFINAL    2.644444\n",
      "dtype: float64\n"
     ]
    },
    {
     "data": {
      "text/plain": [
       "PEC1         2\n",
       "EX           2\n",
       "PEC2         2\n",
       "NOTAFINAL    2\n",
       "dtype: int64"
      ]
     },
     "execution_count": 9,
     "metadata": {},
     "output_type": "execute_result"
    }
   ],
   "source": [
    "OP=datos[(datos.PEC1 == 'NP') & (datos.PEC2 != 'NP') & (datos.EX != 'NP')]\n",
    "print(OP.shape[0])\n",
    "print(' el % es',OP.shape[0]/N*100)\n",
    "print (OP['NOTAFINAL'].mean())\n",
    "print('media nota',OP[OP.NOTAFINAL <=5].mean())\n",
    "OP[OP.NOTAFINAL >=5].count()"
   ]
  },
  {
   "cell_type": "markdown",
   "metadata": {},
   "source": [
    "# 0 1 0\n",
    "N0 Se ha presentado a la PEC1 y si a la PEC2 y NO al EXAMEN la FINAL ( presentado) SOLO PEC2\n"
   ]
  },
  {
   "cell_type": "code",
   "execution_count": 10,
   "metadata": {},
   "outputs": [
    {
     "name": "stdout",
     "output_type": "stream",
     "text": [
      "4\n",
      " el % es 1.0666666666666667\n",
      "0.0\n"
     ]
    },
    {
     "data": {
      "text/plain": [
       "PEC1         0\n",
       "EX           0\n",
       "PEC2         0\n",
       "NOTAFINAL    0\n",
       "dtype: int64"
      ]
     },
     "execution_count": 10,
     "metadata": {},
     "output_type": "execute_result"
    }
   ],
   "source": [
    "OP=datos[(datos.PEC1 == 'NP') & (datos.PEC2 != 'NP') & (datos.EX == 'NP')]\n",
    "print(OP.shape[0])\n",
    "print(' el % es',OP.shape[0]/N*100)\n",
    "print (OP['NOTAFINAL'].mean())\n",
    "OP[OP.NOTAFINAL >=5].count()\n"
   ]
  },
  {
   "cell_type": "markdown",
   "metadata": {},
   "source": [
    "# 1 0 \n",
    "SE ha presentado a la PEC1 y no a la PEC2"
   ]
  },
  {
   "cell_type": "code",
   "execution_count": 11,
   "metadata": {},
   "outputs": [
    {
     "name": "stdout",
     "output_type": "stream",
     "text": [
      "66\n",
      " el % es 17.599999999999998\n",
      "1.2287878787878788\n"
     ]
    },
    {
     "data": {
      "text/plain": [
       "PEC1         7\n",
       "EX           7\n",
       "PEC2         7\n",
       "NOTAFINAL    7\n",
       "dtype: int64"
      ]
     },
     "execution_count": 11,
     "metadata": {},
     "output_type": "execute_result"
    }
   ],
   "source": [
    "OP=datos[(datos.PEC1 != 'NP') & (datos.PEC2 == 'NP')]\n",
    "print(OP.shape[0])\n",
    "print(' el % es',OP.shape[0]/N*100)\n",
    "print (OP['NOTAFINAL'].mean())\n",
    "OP[OP.NOTAFINAL >=5].count()"
   ]
  },
  {
   "cell_type": "markdown",
   "metadata": {},
   "source": [
    "# 1 0 0\n",
    "Se ha presentado a la PEC1 y no a la PEC2 y  NO al EXAMEN FINAL ( presentado)"
   ]
  },
  {
   "cell_type": "code",
   "execution_count": 12,
   "metadata": {},
   "outputs": [
    {
     "name": "stdout",
     "output_type": "stream",
     "text": [
      "36\n",
      " el % es 9.6\n",
      "0.0\n"
     ]
    },
    {
     "data": {
      "text/plain": [
       "PEC1         0\n",
       "EX           0\n",
       "PEC2         0\n",
       "NOTAFINAL    0\n",
       "dtype: int64"
      ]
     },
     "execution_count": 12,
     "metadata": {},
     "output_type": "execute_result"
    }
   ],
   "source": [
    "OP=datos[(datos.PEC1 != 'NP') & (datos.PEC2 == 'NP') & (datos.EX == 'NP')]\n",
    "print(OP.shape[0])\n",
    "print(' el % es',OP.shape[0]/N*100)\n",
    "print (OP['NOTAFINAL'].mean())\n",
    "OP[OP.NOTAFINAL >=5].count()"
   ]
  },
  {
   "cell_type": "markdown",
   "metadata": {},
   "source": [
    "# 1 0 1\n",
    "Se ha presentado a la PEC1 y no a la PEC2 y  al EXAMEN FINAL ( presentado)"
   ]
  },
  {
   "cell_type": "code",
   "execution_count": 13,
   "metadata": {},
   "outputs": [
    {
     "name": "stdout",
     "output_type": "stream",
     "text": [
      "30\n",
      " el % es 8.0\n",
      "2.7033333333333336\n",
      "PEC1         7\n",
      "EX           7\n",
      "PEC2         7\n",
      "NOTAFINAL    7\n",
      "dtype: int64\n",
      "NOTAFINAL    5.742857\n",
      "dtype: float64\n"
     ]
    }
   ],
   "source": [
    "OP=datos[(datos.PEC1 != 'NP') & (datos.PEC2 == 'NP') & (datos.EX != 'NP')]\n",
    "print(OP.shape[0])\n",
    "print(' el % es',OP.shape[0]/N*100)\n",
    "print (OP['NOTAFINAL'].mean())\n",
    "print(OP[OP.NOTAFINAL >=5].count())\n",
    "print(OP[OP.NOTAFINAL >=5].mean())"
   ]
  },
  {
   "cell_type": "markdown",
   "metadata": {},
   "source": [
    "# 1 1\n",
    "Se ha presentado a la PEC1 y  la PEC2 "
   ]
  },
  {
   "cell_type": "code",
   "execution_count": 14,
   "metadata": {},
   "outputs": [
    {
     "name": "stdout",
     "output_type": "stream",
     "text": [
      "147\n",
      " el % es 39.2\n",
      "3.8442176870748295\n"
     ]
    },
    {
     "data": {
      "text/plain": [
       "PEC1         61\n",
       "EX           61\n",
       "PEC2         61\n",
       "NOTAFINAL    61\n",
       "dtype: int64"
      ]
     },
     "execution_count": 14,
     "metadata": {},
     "output_type": "execute_result"
    }
   ],
   "source": [
    "OP=datos[(datos.PEC1 != 'NP') & (datos.PEC2 != 'NP')]\n",
    "print(OP.shape[0])\n",
    "print(' el % es',OP.shape[0]/N*100)\n",
    "print (OP['NOTAFINAL'].mean())\n",
    "OP[OP.NOTAFINAL >=5].count()"
   ]
  },
  {
   "cell_type": "markdown",
   "metadata": {},
   "source": [
    "# 1 1 1 \n",
    "Se ha presentado a la PEC1 y  la PEC2 y al EXAMEN FINAL ( presentado)"
   ]
  },
  {
   "cell_type": "code",
   "execution_count": 15,
   "metadata": {},
   "outputs": [
    {
     "name": "stdout",
     "output_type": "stream",
     "text": [
      "122\n",
      " el % es 32.53333333333333\n",
      "4.631967213114755\n",
      "PEC1         61\n",
      "EX           61\n",
      "PEC2         61\n",
      "NOTAFINAL    61\n",
      "dtype: int64\n",
      "media nota NOTAFINAL    7.003279\n",
      "dtype: float64\n"
     ]
    }
   ],
   "source": [
    "OP=datos[(datos.PEC1 != 'NP') & (datos.PEC2 != 'NP') & (datos.EX !='NP')]\n",
    "print(OP.shape[0])\n",
    "print(' el % es',OP.shape[0]/N*100)\n",
    "\n",
    "print (OP['NOTAFINAL'].mean())\n",
    "print(OP[OP.NOTAFINAL >=5].count())\n",
    "print( 'media nota',OP[OP.NOTAFINAL >=5].mean())"
   ]
  },
  {
   "cell_type": "markdown",
   "metadata": {},
   "source": [
    "# 1 1 0\n",
    "Se ha presentado a la PEC1 y  la PEC2 y NO al EXAMEN FINAL ( presentado)"
   ]
  },
  {
   "cell_type": "code",
   "execution_count": 16,
   "metadata": {},
   "outputs": [
    {
     "name": "stdout",
     "output_type": "stream",
     "text": [
      "25\n",
      " el % es 6.666666666666667\n",
      "0.0\n"
     ]
    },
    {
     "data": {
      "text/plain": [
       "PEC1         0\n",
       "EX           0\n",
       "PEC2         0\n",
       "NOTAFINAL    0\n",
       "dtype: int64"
      ]
     },
     "execution_count": 16,
     "metadata": {},
     "output_type": "execute_result"
    }
   ],
   "source": [
    "OP=datos[(datos.PEC1 != 'NP') & (datos.PEC2 != 'NP') & (datos.EX =='NP')]\n",
    "print(OP.shape[0])\n",
    "print(' el % es',OP.shape[0]/N*100)\n",
    "print (OP['NOTAFINAL'].mean())\n",
    "OP[OP.NOTAFINAL >=5].count()\n"
   ]
  },
  {
   "cell_type": "code",
   "execution_count": 19,
   "metadata": {},
   "outputs": [
    {
     "name": "stdout",
     "output_type": "stream",
     "text": [
      "213\n",
      " el % es 56.8\n",
      "0.6366197183098591\n",
      "PEC1         8\n",
      "EX           8\n",
      "PEC2         8\n",
      "NOTAFINAL    8\n",
      "dtype: int64\n",
      "media nota NOTAFINAL    5.9625\n",
      "dtype: float64\n"
     ]
    }
   ],
   "source": [
    "OP=datos[(datos.PEC2 =='NP') ]\n",
    "print(OP.shape[0])\n",
    "print(' el % es',OP.shape[0]/N*100)\n",
    "\n",
    "print (OP['NOTAFINAL'].mean())\n",
    "print(OP[OP.NOTAFINAL >=5].count())\n",
    "print( 'media nota',OP[OP.NOTAFINAL >=5].mean())"
   ]
  },
  {
   "cell_type": "code",
   "execution_count": 18,
   "metadata": {},
   "outputs": [
    {
     "data": {
      "text/plain": [
       "375"
      ]
     },
     "execution_count": 18,
     "metadata": {},
     "output_type": "execute_result"
    }
   ],
   "source": [
    "N"
   ]
  },
  {
   "cell_type": "code",
   "execution_count": null,
   "metadata": {},
   "outputs": [],
   "source": []
  }
 ],
 "metadata": {
  "kernelspec": {
   "display_name": "Python 3",
   "language": "python",
   "name": "python3"
  },
  "language_info": {
   "codemirror_mode": {
    "name": "ipython",
    "version": 3
   },
   "file_extension": ".py",
   "mimetype": "text/x-python",
   "name": "python",
   "nbconvert_exporter": "python",
   "pygments_lexer": "ipython3",
   "version": "3.7.7"
  }
 },
 "nbformat": 4,
 "nbformat_minor": 4
}
